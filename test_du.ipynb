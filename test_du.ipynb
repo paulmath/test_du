{
 "cells": [
  {
   "cell_type": "markdown",
   "metadata": {},
   "source": [
    "## LIBRARIES"
   ]
  },
  {
   "cell_type": "code",
   "execution_count": 1,
   "metadata": {},
   "outputs": [
    {
     "name": "stderr",
     "output_type": "stream",
     "text": [
      "\n",
      "Bad key text.latex.unicode in file C:\\Users\\Paul Mathivon\\Miniconda3\\lib\\site-packages\\matplotlib\\mpl-data\\stylelib\\_classic_test.mplstyle, line 112 ('text.latex.unicode : False # use \"ucs\" and \"inputenc\" LaTeX packages for handling')\n",
      "You probably need to get an updated matplotlibrc file from\n",
      "https://github.com/matplotlib/matplotlib/blob/v3.3.2/matplotlibrc.template\n",
      "or from the matplotlib source distribution\n",
      "\n",
      "Bad key savefig.frameon in file C:\\Users\\Paul Mathivon\\Miniconda3\\lib\\site-packages\\matplotlib\\mpl-data\\stylelib\\_classic_test.mplstyle, line 423 ('savefig.frameon : True')\n",
      "You probably need to get an updated matplotlibrc file from\n",
      "https://github.com/matplotlib/matplotlib/blob/v3.3.2/matplotlibrc.template\n",
      "or from the matplotlib source distribution\n",
      "\n",
      "Bad key pgf.debug in file C:\\Users\\Paul Mathivon\\Miniconda3\\lib\\site-packages\\matplotlib\\mpl-data\\stylelib\\_classic_test.mplstyle, line 444 ('pgf.debug           : False')\n",
      "You probably need to get an updated matplotlibrc file from\n",
      "https://github.com/matplotlib/matplotlib/blob/v3.3.2/matplotlibrc.template\n",
      "or from the matplotlib source distribution\n",
      "\n",
      "Bad key verbose.level in file C:\\Users\\Paul Mathivon\\Miniconda3\\lib\\site-packages\\matplotlib\\mpl-data\\stylelib\\_classic_test.mplstyle, line 475 ('verbose.level  : silent      # one of silent, helpful, debug, debug-annoying')\n",
      "You probably need to get an updated matplotlibrc file from\n",
      "https://github.com/matplotlib/matplotlib/blob/v3.3.2/matplotlibrc.template\n",
      "or from the matplotlib source distribution\n",
      "\n",
      "Bad key verbose.fileo in file C:\\Users\\Paul Mathivon\\Miniconda3\\lib\\site-packages\\matplotlib\\mpl-data\\stylelib\\_classic_test.mplstyle, line 476 ('verbose.fileo  : sys.stdout  # a log filename, sys.stdout or sys.stderr')\n",
      "You probably need to get an updated matplotlibrc file from\n",
      "https://github.com/matplotlib/matplotlib/blob/v3.3.2/matplotlibrc.template\n",
      "or from the matplotlib source distribution\n",
      "In C:\\Users\\Paul Mathivon\\Miniconda3\\lib\\site-packages\\matplotlib\\mpl-data\\stylelib\\_classic_test.mplstyle: \n",
      "The text.latex.preview rcparam was deprecated in Matplotlib 3.3 and will be removed two minor releases later.\n",
      "In C:\\Users\\Paul Mathivon\\Miniconda3\\lib\\site-packages\\matplotlib\\mpl-data\\stylelib\\_classic_test.mplstyle: \n",
      "The mathtext.fallback_to_cm rcparam was deprecated in Matplotlib 3.3 and will be removed two minor releases later.\n",
      "In C:\\Users\\Paul Mathivon\\Miniconda3\\lib\\site-packages\\matplotlib\\mpl-data\\stylelib\\_classic_test.mplstyle: Support for setting the 'mathtext.fallback_to_cm' rcParam is deprecated since 3.3 and will be removed two minor releases later; use 'mathtext.fallback : 'cm' instead.\n",
      "In C:\\Users\\Paul Mathivon\\Miniconda3\\lib\\site-packages\\matplotlib\\mpl-data\\stylelib\\_classic_test.mplstyle: \n",
      "The validate_bool_maybe_none function was deprecated in Matplotlib 3.3 and will be removed two minor releases later.\n",
      "In C:\\Users\\Paul Mathivon\\Miniconda3\\lib\\site-packages\\matplotlib\\mpl-data\\stylelib\\_classic_test.mplstyle: \n",
      "The savefig.jpeg_quality rcparam was deprecated in Matplotlib 3.3 and will be removed two minor releases later.\n",
      "In C:\\Users\\Paul Mathivon\\Miniconda3\\lib\\site-packages\\matplotlib\\mpl-data\\stylelib\\_classic_test.mplstyle: \n",
      "The keymap.all_axes rcparam was deprecated in Matplotlib 3.3 and will be removed two minor releases later.\n",
      "In C:\\Users\\Paul Mathivon\\Miniconda3\\lib\\site-packages\\matplotlib\\mpl-data\\stylelib\\_classic_test.mplstyle: \n",
      "The animation.avconv_path rcparam was deprecated in Matplotlib 3.3 and will be removed two minor releases later.\n",
      "In C:\\Users\\Paul Mathivon\\Miniconda3\\lib\\site-packages\\matplotlib\\mpl-data\\stylelib\\_classic_test.mplstyle: \n",
      "The animation.avconv_args rcparam was deprecated in Matplotlib 3.3 and will be removed two minor releases later.\n"
     ]
    }
   ],
   "source": [
    "import pandas as pd\n",
    "import numpy as np\n",
    "import matplotlib.pyplot as plt\n",
    "%matplotlib inline\n",
    "np.random.seed(15532) #for reproducibility"
   ]
  },
  {
   "cell_type": "markdown",
   "metadata": {},
   "source": [
    "## Problem Description\n",
    "We have a csv file *train_auto* which we will use for training and evaluation of our code, as well as a *test_auto* file in which the columns **TARGET_FLAG** and **TARGET_AMT** are empty. Our goal is to predict **TARGET_FLAG** which takes value 1 or 0."
   ]
  },
  {
   "cell_type": "markdown",
   "metadata": {},
   "source": [
    "## Data Exploration"
   ]
  },
  {
   "cell_type": "code",
   "execution_count": 2,
   "metadata": {
    "scrolled": true
   },
   "outputs": [
    {
     "data": {
      "text/html": [
       "<div>\n",
       "<style scoped>\n",
       "    .dataframe tbody tr th:only-of-type {\n",
       "        vertical-align: middle;\n",
       "    }\n",
       "\n",
       "    .dataframe tbody tr th {\n",
       "        vertical-align: top;\n",
       "    }\n",
       "\n",
       "    .dataframe thead th {\n",
       "        text-align: right;\n",
       "    }\n",
       "</style>\n",
       "<table border=\"1\" class=\"dataframe\">\n",
       "  <thead>\n",
       "    <tr style=\"text-align: right;\">\n",
       "      <th></th>\n",
       "      <th>TARGET_FLAG</th>\n",
       "      <th>KIDSDRIV</th>\n",
       "      <th>AGE</th>\n",
       "      <th>HOMEKIDS</th>\n",
       "      <th>YOJ</th>\n",
       "      <th>INCOME</th>\n",
       "      <th>PARENT1</th>\n",
       "      <th>HOME_VAL</th>\n",
       "      <th>MSTATUS</th>\n",
       "      <th>SEX</th>\n",
       "      <th>...</th>\n",
       "      <th>BLUEBOOK</th>\n",
       "      <th>TIF</th>\n",
       "      <th>CAR_TYPE</th>\n",
       "      <th>RED_CAR</th>\n",
       "      <th>OLDCLAIM</th>\n",
       "      <th>CLM_FREQ</th>\n",
       "      <th>REVOKED</th>\n",
       "      <th>MVR_PTS</th>\n",
       "      <th>CAR_AGE</th>\n",
       "      <th>URBANICITY</th>\n",
       "    </tr>\n",
       "    <tr>\n",
       "      <th>INDEX</th>\n",
       "      <th></th>\n",
       "      <th></th>\n",
       "      <th></th>\n",
       "      <th></th>\n",
       "      <th></th>\n",
       "      <th></th>\n",
       "      <th></th>\n",
       "      <th></th>\n",
       "      <th></th>\n",
       "      <th></th>\n",
       "      <th></th>\n",
       "      <th></th>\n",
       "      <th></th>\n",
       "      <th></th>\n",
       "      <th></th>\n",
       "      <th></th>\n",
       "      <th></th>\n",
       "      <th></th>\n",
       "      <th></th>\n",
       "      <th></th>\n",
       "      <th></th>\n",
       "    </tr>\n",
       "  </thead>\n",
       "  <tbody>\n",
       "    <tr>\n",
       "      <th>1</th>\n",
       "      <td>0</td>\n",
       "      <td>0</td>\n",
       "      <td>60.0</td>\n",
       "      <td>0</td>\n",
       "      <td>11.0</td>\n",
       "      <td>$67,349</td>\n",
       "      <td>No</td>\n",
       "      <td>$0</td>\n",
       "      <td>z_No</td>\n",
       "      <td>M</td>\n",
       "      <td>...</td>\n",
       "      <td>$14,230</td>\n",
       "      <td>11</td>\n",
       "      <td>Minivan</td>\n",
       "      <td>yes</td>\n",
       "      <td>$4,461</td>\n",
       "      <td>2</td>\n",
       "      <td>No</td>\n",
       "      <td>3</td>\n",
       "      <td>18.0</td>\n",
       "      <td>Highly Urban/ Urban</td>\n",
       "    </tr>\n",
       "    <tr>\n",
       "      <th>2</th>\n",
       "      <td>0</td>\n",
       "      <td>0</td>\n",
       "      <td>43.0</td>\n",
       "      <td>0</td>\n",
       "      <td>11.0</td>\n",
       "      <td>$91,449</td>\n",
       "      <td>No</td>\n",
       "      <td>$257,252</td>\n",
       "      <td>z_No</td>\n",
       "      <td>M</td>\n",
       "      <td>...</td>\n",
       "      <td>$14,940</td>\n",
       "      <td>1</td>\n",
       "      <td>Minivan</td>\n",
       "      <td>yes</td>\n",
       "      <td>$0</td>\n",
       "      <td>0</td>\n",
       "      <td>No</td>\n",
       "      <td>0</td>\n",
       "      <td>1.0</td>\n",
       "      <td>Highly Urban/ Urban</td>\n",
       "    </tr>\n",
       "    <tr>\n",
       "      <th>4</th>\n",
       "      <td>0</td>\n",
       "      <td>0</td>\n",
       "      <td>35.0</td>\n",
       "      <td>1</td>\n",
       "      <td>10.0</td>\n",
       "      <td>$16,039</td>\n",
       "      <td>No</td>\n",
       "      <td>$124,191</td>\n",
       "      <td>Yes</td>\n",
       "      <td>z_F</td>\n",
       "      <td>...</td>\n",
       "      <td>$4,010</td>\n",
       "      <td>4</td>\n",
       "      <td>z_SUV</td>\n",
       "      <td>no</td>\n",
       "      <td>$38,690</td>\n",
       "      <td>2</td>\n",
       "      <td>No</td>\n",
       "      <td>3</td>\n",
       "      <td>10.0</td>\n",
       "      <td>Highly Urban/ Urban</td>\n",
       "    </tr>\n",
       "    <tr>\n",
       "      <th>5</th>\n",
       "      <td>0</td>\n",
       "      <td>0</td>\n",
       "      <td>51.0</td>\n",
       "      <td>0</td>\n",
       "      <td>14.0</td>\n",
       "      <td>NaN</td>\n",
       "      <td>No</td>\n",
       "      <td>$306,251</td>\n",
       "      <td>Yes</td>\n",
       "      <td>M</td>\n",
       "      <td>...</td>\n",
       "      <td>$15,440</td>\n",
       "      <td>7</td>\n",
       "      <td>Minivan</td>\n",
       "      <td>yes</td>\n",
       "      <td>$0</td>\n",
       "      <td>0</td>\n",
       "      <td>No</td>\n",
       "      <td>0</td>\n",
       "      <td>6.0</td>\n",
       "      <td>Highly Urban/ Urban</td>\n",
       "    </tr>\n",
       "    <tr>\n",
       "      <th>6</th>\n",
       "      <td>0</td>\n",
       "      <td>0</td>\n",
       "      <td>50.0</td>\n",
       "      <td>0</td>\n",
       "      <td>NaN</td>\n",
       "      <td>$114,986</td>\n",
       "      <td>No</td>\n",
       "      <td>$243,925</td>\n",
       "      <td>Yes</td>\n",
       "      <td>z_F</td>\n",
       "      <td>...</td>\n",
       "      <td>$18,000</td>\n",
       "      <td>1</td>\n",
       "      <td>z_SUV</td>\n",
       "      <td>no</td>\n",
       "      <td>$19,217</td>\n",
       "      <td>2</td>\n",
       "      <td>Yes</td>\n",
       "      <td>3</td>\n",
       "      <td>17.0</td>\n",
       "      <td>Highly Urban/ Urban</td>\n",
       "    </tr>\n",
       "  </tbody>\n",
       "</table>\n",
       "<p>5 rows × 24 columns</p>\n",
       "</div>"
      ],
      "text/plain": [
       "       TARGET_FLAG  KIDSDRIV   AGE  HOMEKIDS   YOJ    INCOME PARENT1  \\\n",
       "INDEX                                                                  \n",
       "1                0         0  60.0         0  11.0   $67,349      No   \n",
       "2                0         0  43.0         0  11.0   $91,449      No   \n",
       "4                0         0  35.0         1  10.0   $16,039      No   \n",
       "5                0         0  51.0         0  14.0       NaN      No   \n",
       "6                0         0  50.0         0   NaN  $114,986      No   \n",
       "\n",
       "       HOME_VAL MSTATUS  SEX  ... BLUEBOOK TIF  CAR_TYPE RED_CAR OLDCLAIM  \\\n",
       "INDEX                         ...                                           \n",
       "1            $0    z_No    M  ...  $14,230  11   Minivan     yes   $4,461   \n",
       "2      $257,252    z_No    M  ...  $14,940   1   Minivan     yes       $0   \n",
       "4      $124,191     Yes  z_F  ...   $4,010   4     z_SUV      no  $38,690   \n",
       "5      $306,251     Yes    M  ...  $15,440   7   Minivan     yes       $0   \n",
       "6      $243,925     Yes  z_F  ...  $18,000   1     z_SUV      no  $19,217   \n",
       "\n",
       "       CLM_FREQ REVOKED MVR_PTS CAR_AGE           URBANICITY  \n",
       "INDEX                                                         \n",
       "1             2      No       3    18.0  Highly Urban/ Urban  \n",
       "2             0      No       0     1.0  Highly Urban/ Urban  \n",
       "4             2      No       3    10.0  Highly Urban/ Urban  \n",
       "5             0      No       0     6.0  Highly Urban/ Urban  \n",
       "6             2     Yes       3    17.0  Highly Urban/ Urban  \n",
       "\n",
       "[5 rows x 24 columns]"
      ]
     },
     "execution_count": 2,
     "metadata": {},
     "output_type": "execute_result"
    }
   ],
   "source": [
    "df=pd.read_csv(\"train_auto.csv\",index_col=\"INDEX\")\n",
    "\n",
    "df.drop(\"TARGET_AMT\", axis=1,inplace=True) #We won't be able to use \"TARGET_AMT\" on test_auto, so we can drop it\n",
    "df.head(5)"
   ]
  },
  {
   "cell_type": "code",
   "execution_count": 3,
   "metadata": {},
   "outputs": [
    {
     "data": {
      "text/plain": [
       "Index(['TARGET_FLAG', 'KIDSDRIV', 'AGE', 'HOMEKIDS', 'YOJ', 'INCOME',\n",
       "       'PARENT1', 'HOME_VAL', 'MSTATUS', 'SEX', 'EDUCATION', 'JOB', 'TRAVTIME',\n",
       "       'CAR_USE', 'BLUEBOOK', 'TIF', 'CAR_TYPE', 'RED_CAR', 'OLDCLAIM',\n",
       "       'CLM_FREQ', 'REVOKED', 'MVR_PTS', 'CAR_AGE', 'URBANICITY'],\n",
       "      dtype='object')"
      ]
     },
     "execution_count": 3,
     "metadata": {},
     "output_type": "execute_result"
    }
   ],
   "source": [
    "df.columns[:]"
   ]
  },
  {
   "cell_type": "markdown",
   "metadata": {},
   "source": [
    "We can see that our dataset contains both numerical and categorical data. As well as some NaN values. Let's first take a look at our categorical data :"
   ]
  },
  {
   "cell_type": "code",
   "execution_count": 4,
   "metadata": {},
   "outputs": [
    {
     "data": {
      "text/plain": [
       "PARENT1       2\n",
       "MSTATUS       2\n",
       "SEX           2\n",
       "EDUCATION     5\n",
       "JOB           8\n",
       "CAR_USE       2\n",
       "CAR_TYPE      6\n",
       "RED_CAR       2\n",
       "REVOKED       2\n",
       "URBANICITY    2\n",
       "dtype: int64"
      ]
     },
     "execution_count": 4,
     "metadata": {},
     "output_type": "execute_result"
    }
   ],
   "source": [
    "df[[\"PARENT1\",\"MSTATUS\",\"SEX\",\"EDUCATION\",\"JOB\",\"CAR_USE\",\"CAR_TYPE\",\"RED_CAR\",\"REVOKED\",\"URBANICITY\"]].apply(pd.Series.nunique)"
   ]
  },
  {
   "cell_type": "markdown",
   "metadata": {},
   "source": [
    "We observe that the columns **EDUCATION**,**JOB** and **CAR_TYPE** contains more than 2 values. We will have to deal with them differently. Supposing that the features are not too correlated, we could fill the binary features with **0** and **1**. \n",
    "\n",
    "Let's now take a look at missing values"
   ]
  },
  {
   "cell_type": "code",
   "execution_count": 5,
   "metadata": {},
   "outputs": [
    {
     "data": {
      "text/plain": [
       "AGE           6\n",
       "YOJ         454\n",
       "INCOME      445\n",
       "HOME_VAL    464\n",
       "JOB         526\n",
       "CAR_AGE     510\n",
       "dtype: int64"
      ]
     },
     "execution_count": 5,
     "metadata": {},
     "output_type": "execute_result"
    }
   ],
   "source": [
    "df.isnull().sum()[df.isnull().sum()>0] #all the columns with missing values "
   ]
  },
  {
   "cell_type": "markdown",
   "metadata": {},
   "source": [
    "Our dataset contains many missing values. We should try to impute them in order to avoid loosing too much data. Using a rule of thumb for the training, we will first get rid of the rows which contains at least 2 NaNs. We loose 20 rows in the process. "
   ]
  },
  {
   "cell_type": "code",
   "execution_count": 6,
   "metadata": {},
   "outputs": [],
   "source": [
    "df.dropna(axis=0,thresh=22,inplace=True)"
   ]
  },
  {
   "cell_type": "markdown",
   "metadata": {},
   "source": [
    "## DATA PREPROCESSING"
   ]
  },
  {
   "cell_type": "code",
   "execution_count": 7,
   "metadata": {},
   "outputs": [],
   "source": [
    "df = df.fillna(-1) #using -1 to avoid dealing with NaN too often"
   ]
  },
  {
   "cell_type": "markdown",
   "metadata": {},
   "source": [
    "First let's make our binary categorical data numerical. As well as transforming dollars into floats."
   ]
  },
  {
   "cell_type": "code",
   "execution_count": 8,
   "metadata": {},
   "outputs": [],
   "source": [
    "#transform binary categorical data in 0 and 1\n",
    "df[\"PARENT1\"].replace((\"No\",\"Yes\"),(0,1),inplace=True)\n",
    "df[\"SEX\"].replace((\"M\",\"z_F\"),(0,1),inplace=True)\n",
    "df[\"CAR_USE\"].replace((\"Private\",\"Commercial\"),(0,1),inplace=True)\n",
    "df[\"RED_CAR\"].replace((\"no\",\"yes\"),(0,1),inplace=True)\n",
    "df[\"REVOKED\"].replace((\"No\",\"Yes\"),(0,1),inplace=True)\n",
    "df[\"URBANICITY\"].replace((\"z_Highly Rural/ Rural\",\"Highly Urban/ Urban\"),(0,1),inplace=True)\n",
    "df[\"MSTATUS\"].replace((\"z_No\",\"Yes\"),(0,1),inplace=True)"
   ]
  },
  {
   "cell_type": "code",
   "execution_count": 9,
   "metadata": {},
   "outputs": [],
   "source": [
    "#transforming dollars in float\n",
    "def dollar_to_float(x):\n",
    "    if x == -1:\n",
    "        return -1\n",
    "    else:\n",
    "        return np.float(x[1:].replace(\",\",\"\"))   \n",
    "df[\"INCOME\"]=df[\"INCOME\"].apply(dollar_to_float)\n",
    "df[\"BLUEBOOK\"]=df[\"BLUEBOOK\"].apply(dollar_to_float)\n",
    "df[\"HOME_VAL\"]=df[\"HOME_VAL\"].apply(dollar_to_float)\n",
    "df[\"OLDCLAIM\"]=df[\"OLDCLAIM\"].apply(dollar_to_float)"
   ]
  },
  {
   "cell_type": "markdown",
   "metadata": {},
   "source": [
    "After those transformations, we still have to deal with the categorical data, and the missing values in Job. Let's start by modifying categorical data. We are, first going to replace each category by the ratio of ones in **TARGET_FLAG**. For instance, if we take the item \"Doctor\" in the **JOB** column, we will replace \"Doctor\" with the percentage of 1's in the lines in which **JOB** takes the value \"Doctor\". We first implement a function FreqTransform that creates a dictionnary associating an item with the relative frequency."
   ]
  },
  {
   "cell_type": "code",
   "execution_count": 10,
   "metadata": {},
   "outputs": [],
   "source": [
    "def FreqTransform(target_flag,col):\n",
    "    \n",
    "    col\n",
    "    unique_val=col[col!=-1].unique() #Not using missing values\n",
    "    values=[]\n",
    "    \n",
    "    for val in unique_val:\n",
    "        new_val = target_flag[col==val].mean()\n",
    "        values.append(new_val)\n",
    "    dict_val = {unique_val[i]:values[i] for i in range(len(unique_val))}\n",
    "    col=col.replace(to_replace=dict_val) #we replace with the correct values\n",
    "    return col,dict_val"
   ]
  },
  {
   "cell_type": "markdown",
   "metadata": {},
   "source": [
    "Let's take a look at the different values taken for each category"
   ]
  },
  {
   "cell_type": "code",
   "execution_count": 11,
   "metadata": {},
   "outputs": [],
   "source": [
    "dict_job=FreqTransform(df[\"TARGET_FLAG\"],df[\"JOB\"])[1]\n",
    "dict_car_type=FreqTransform(df[\"TARGET_FLAG\"],df[\"CAR_TYPE\"])[1]\n",
    "dict_education=FreqTransform(df[\"TARGET_FLAG\"],df[\"EDUCATION\"])[1]"
   ]
  },
  {
   "cell_type": "code",
   "execution_count": 12,
   "metadata": {
    "hide_input": true
   },
   "outputs": [
    {
     "data": {
      "image/png": "[encoded data removed]",
      "text/plain": [
       "<Figure size 432x288 with 1 Axes>"
      ]
     },
     "metadata": {
      "needs_background": "light"
     },
     "output_type": "display_data"
    }
   ],
   "source": [
    "fig=plt.bar(range(len(dict_job)),list(dict_job.values()))\n",
    "fig=plt.xticks(range(len(dict_job)), list(dict_job.keys()))\n",
    "fig=plt.title(\"Frequency of 1's according to job\")"
   ]
  },
  {
   "cell_type": "code",
   "execution_count": 13,
   "metadata": {
    "hide_input": true
   },
   "outputs": [
    {
     "data": {
      "image/png": "[encoded data removed]",
      "text/plain": [
       "<Figure size 432x288 with 1 Axes>"
      ]
     },
     "metadata": {
      "needs_background": "light"
     },
     "output_type": "display_data"
    }
   ],
   "source": [
    "fig=plt.bar(range(len(dict_car_type)),list(dict_car_type.values()))\n",
    "fig=plt.xticks(range(len(dict_car_type)), list(dict_car_type.keys()))\n",
    "fig=plt.title(\"Frequency of 1's according to car_type\")"
   ]
  },
  {
   "cell_type": "code",
   "execution_count": 14,
   "metadata": {
    "hide_input": true
   },
   "outputs": [
    {
     "data": {
      "image/png": "[encoded data removed]",
      "text/plain": [
       "<Figure size 432x288 with 1 Axes>"
      ]
     },
     "metadata": {
      "needs_background": "light"
     },
     "output_type": "display_data"
    }
   ],
   "source": [
    "fig=plt.bar(range(len(dict_education)),list(dict_education.values()))\n",
    "fig=plt.xticks(range(len(dict_education)), list(dict_education.keys()))\n",
    "fig=plt.title(\"Frequency of 1's according to education\")"
   ]
  },
  {
   "cell_type": "markdown",
   "metadata": {},
   "source": [
    "It seems that we could split the Education and Job features in two groups accordingly to the relative frequence of 1's in **Target_Flag**. \n",
    "\n",
    "For instance, education could be split into **\"Higher Education\"** (Bachelor, Master, Phd) and **\"Basic Education\"** (z_High School, High School). Job could be split into **\"Specialized Job\"** (Doctor, Lawyer, Manager, Professional) and **\"Basic job\"** (Clerical, Blue Collar worker, Student,Home Maker). Thus allowing us to use binary data.\n",
    "\n",
    "A distinction is not so easily made for the car type, and we could just use the relative frequency as our new variable."
   ]
  },
  {
   "cell_type": "code",
   "execution_count": 15,
   "metadata": {},
   "outputs": [],
   "source": [
    "#transforming into binary data\n",
    "df[\"EDUCATION\"].replace(to_replace=[\"Masters\",\"PhD\",\"Bachelors\"],value=1,inplace=True)\n",
    "df[\"EDUCATION\"].replace(to_replace=[\"z_High School\",\"<High School\"],value=0,inplace=True)"
   ]
  },
  {
   "cell_type": "code",
   "execution_count": 16,
   "metadata": {},
   "outputs": [],
   "source": [
    "df[\"JOB\"].replace(to_replace=[\"Lawyer\",\"Doctor\",\"Manager\",\"Professional\"],value=1,inplace=True)\n",
    "df[\"JOB\"].replace(to_replace=[\"Home Maker\",\"Student\",\"z_Blue Collar\",\"Clerical\"],value=0,inplace=True)"
   ]
  },
  {
   "cell_type": "code",
   "execution_count": 17,
   "metadata": {},
   "outputs": [],
   "source": [
    "\n",
    "#Transforming into relative frequency\n",
    "df[\"CAR_TYPE\"]= FreqTransform(df[\"TARGET_FLAG\"],df[\"CAR_TYPE\"])[0]"
   ]
  },
  {
   "cell_type": "markdown",
   "metadata": {},
   "source": [
    "Now that we only have numerical data (binary or continuous), we can use sklearn KNN imputer to impute the missing values."
   ]
  },
  {
   "cell_type": "code",
   "execution_count": 18,
   "metadata": {},
   "outputs": [],
   "source": [
    "#Imputing Age,YOJ,Income,Home_val and CAR_AGE,JOB\n",
    "from sklearn.impute import KNNImputer\n",
    "df_2 = df.drop([\"TARGET_FLAG\"],axis=1) \n",
    "#TARGET_FLAG won't be available in our testing sample\n",
    "imputer=KNNImputer(n_neighbors= 15,missing_values=-1.,weights='distance') #Nearest Neighbors Imputer\n",
    "impute=imputer.fit_transform(df_2)\n",
    "df[df_2.columns]=impute"
   ]
  },
  {
   "cell_type": "markdown",
   "metadata": {},
   "source": [
    "We now have numerical data that is free from missing values. Considering this, we should try to linearize and normalize it. Let's first check if we find colinearity in our data that would need us to rectify it using cross-terms."
   ]
  },
  {
   "cell_type": "code",
   "execution_count": 19,
   "metadata": {},
   "outputs": [
    {
     "data": {
      "text/html": [
       "<div>\n",
       "<style scoped>\n",
       "    .dataframe tbody tr th:only-of-type {\n",
       "        vertical-align: middle;\n",
       "    }\n",
       "\n",
       "    .dataframe tbody tr th {\n",
       "        vertical-align: top;\n",
       "    }\n",
       "\n",
       "    .dataframe thead th {\n",
       "        text-align: right;\n",
       "    }\n",
       "</style>\n",
       "<table border=\"1\" class=\"dataframe\">\n",
       "  <thead>\n",
       "    <tr style=\"text-align: right;\">\n",
       "      <th></th>\n",
       "      <th>TARGET_FLAG</th>\n",
       "      <th>KIDSDRIV</th>\n",
       "      <th>AGE</th>\n",
       "      <th>HOMEKIDS</th>\n",
       "      <th>YOJ</th>\n",
       "      <th>INCOME</th>\n",
       "      <th>PARENT1</th>\n",
       "      <th>HOME_VAL</th>\n",
       "      <th>MSTATUS</th>\n",
       "      <th>SEX</th>\n",
       "      <th>...</th>\n",
       "      <th>BLUEBOOK</th>\n",
       "      <th>TIF</th>\n",
       "      <th>CAR_TYPE</th>\n",
       "      <th>RED_CAR</th>\n",
       "      <th>OLDCLAIM</th>\n",
       "      <th>CLM_FREQ</th>\n",
       "      <th>REVOKED</th>\n",
       "      <th>MVR_PTS</th>\n",
       "      <th>CAR_AGE</th>\n",
       "      <th>URBANICITY</th>\n",
       "    </tr>\n",
       "  </thead>\n",
       "  <tbody>\n",
       "    <tr>\n",
       "      <th>TARGET_FLAG</th>\n",
       "      <td>1.000</td>\n",
       "      <td>0.104</td>\n",
       "      <td>-0.103</td>\n",
       "      <td>0.115</td>\n",
       "      <td>-0.071</td>\n",
       "      <td>-0.139</td>\n",
       "      <td>0.158</td>\n",
       "      <td>-0.180</td>\n",
       "      <td>-0.135</td>\n",
       "      <td>0.022</td>\n",
       "      <td>...</td>\n",
       "      <td>-0.104</td>\n",
       "      <td>-0.082</td>\n",
       "      <td>0.145</td>\n",
       "      <td>-0.008</td>\n",
       "      <td>0.139</td>\n",
       "      <td>0.216</td>\n",
       "      <td>0.153</td>\n",
       "      <td>0.219</td>\n",
       "      <td>-0.100</td>\n",
       "      <td>0.224</td>\n",
       "    </tr>\n",
       "    <tr>\n",
       "      <th>KIDSDRIV</th>\n",
       "      <td>0.104</td>\n",
       "      <td>1.000</td>\n",
       "      <td>-0.074</td>\n",
       "      <td>0.463</td>\n",
       "      <td>0.041</td>\n",
       "      <td>-0.044</td>\n",
       "      <td>0.198</td>\n",
       "      <td>-0.020</td>\n",
       "      <td>0.041</td>\n",
       "      <td>0.046</td>\n",
       "      <td>...</td>\n",
       "      <td>-0.023</td>\n",
       "      <td>-0.002</td>\n",
       "      <td>0.017</td>\n",
       "      <td>-0.045</td>\n",
       "      <td>0.021</td>\n",
       "      <td>0.038</td>\n",
       "      <td>0.044</td>\n",
       "      <td>0.054</td>\n",
       "      <td>-0.053</td>\n",
       "      <td>-0.036</td>\n",
       "    </tr>\n",
       "    <tr>\n",
       "      <th>AGE</th>\n",
       "      <td>-0.103</td>\n",
       "      <td>-0.074</td>\n",
       "      <td>1.000</td>\n",
       "      <td>-0.444</td>\n",
       "      <td>0.132</td>\n",
       "      <td>0.177</td>\n",
       "      <td>-0.314</td>\n",
       "      <td>0.207</td>\n",
       "      <td>0.091</td>\n",
       "      <td>-0.066</td>\n",
       "      <td>...</td>\n",
       "      <td>0.166</td>\n",
       "      <td>-0.001</td>\n",
       "      <td>-0.022</td>\n",
       "      <td>0.020</td>\n",
       "      <td>-0.030</td>\n",
       "      <td>-0.025</td>\n",
       "      <td>-0.039</td>\n",
       "      <td>-0.072</td>\n",
       "      <td>0.174</td>\n",
       "      <td>0.051</td>\n",
       "    </tr>\n",
       "    <tr>\n",
       "      <th>HOMEKIDS</th>\n",
       "      <td>0.115</td>\n",
       "      <td>0.463</td>\n",
       "      <td>-0.444</td>\n",
       "      <td>1.000</td>\n",
       "      <td>0.080</td>\n",
       "      <td>-0.154</td>\n",
       "      <td>0.449</td>\n",
       "      <td>-0.109</td>\n",
       "      <td>0.043</td>\n",
       "      <td>0.112</td>\n",
       "      <td>...</td>\n",
       "      <td>-0.108</td>\n",
       "      <td>0.012</td>\n",
       "      <td>0.057</td>\n",
       "      <td>-0.068</td>\n",
       "      <td>0.030</td>\n",
       "      <td>0.030</td>\n",
       "      <td>0.045</td>\n",
       "      <td>0.061</td>\n",
       "      <td>-0.151</td>\n",
       "      <td>-0.063</td>\n",
       "    </tr>\n",
       "    <tr>\n",
       "      <th>YOJ</th>\n",
       "      <td>-0.071</td>\n",
       "      <td>0.041</td>\n",
       "      <td>0.132</td>\n",
       "      <td>0.080</td>\n",
       "      <td>1.000</td>\n",
       "      <td>0.286</td>\n",
       "      <td>-0.050</td>\n",
       "      <td>0.271</td>\n",
       "      <td>0.140</td>\n",
       "      <td>-0.088</td>\n",
       "      <td>...</td>\n",
       "      <td>0.153</td>\n",
       "      <td>0.022</td>\n",
       "      <td>-0.076</td>\n",
       "      <td>0.051</td>\n",
       "      <td>-0.005</td>\n",
       "      <td>-0.029</td>\n",
       "      <td>-0.006</td>\n",
       "      <td>-0.039</td>\n",
       "      <td>0.062</td>\n",
       "      <td>0.082</td>\n",
       "    </tr>\n",
       "    <tr>\n",
       "      <th>INCOME</th>\n",
       "      <td>-0.139</td>\n",
       "      <td>-0.044</td>\n",
       "      <td>0.177</td>\n",
       "      <td>-0.154</td>\n",
       "      <td>0.286</td>\n",
       "      <td>1.000</td>\n",
       "      <td>-0.073</td>\n",
       "      <td>0.559</td>\n",
       "      <td>-0.031</td>\n",
       "      <td>-0.107</td>\n",
       "      <td>...</td>\n",
       "      <td>0.437</td>\n",
       "      <td>0.001</td>\n",
       "      <td>-0.114</td>\n",
       "      <td>0.059</td>\n",
       "      <td>-0.045</td>\n",
       "      <td>-0.048</td>\n",
       "      <td>-0.020</td>\n",
       "      <td>-0.062</td>\n",
       "      <td>0.405</td>\n",
       "      <td>0.200</td>\n",
       "    </tr>\n",
       "    <tr>\n",
       "      <th>PARENT1</th>\n",
       "      <td>0.158</td>\n",
       "      <td>0.198</td>\n",
       "      <td>-0.314</td>\n",
       "      <td>0.449</td>\n",
       "      <td>-0.050</td>\n",
       "      <td>-0.073</td>\n",
       "      <td>1.000</td>\n",
       "      <td>-0.255</td>\n",
       "      <td>-0.478</td>\n",
       "      <td>0.074</td>\n",
       "      <td>...</td>\n",
       "      <td>-0.050</td>\n",
       "      <td>-0.001</td>\n",
       "      <td>0.030</td>\n",
       "      <td>-0.042</td>\n",
       "      <td>0.035</td>\n",
       "      <td>0.049</td>\n",
       "      <td>0.050</td>\n",
       "      <td>0.069</td>\n",
       "      <td>-0.063</td>\n",
       "      <td>-0.022</td>\n",
       "    </tr>\n",
       "    <tr>\n",
       "      <th>HOME_VAL</th>\n",
       "      <td>-0.180</td>\n",
       "      <td>-0.020</td>\n",
       "      <td>0.207</td>\n",
       "      <td>-0.109</td>\n",
       "      <td>0.271</td>\n",
       "      <td>0.559</td>\n",
       "      <td>-0.255</td>\n",
       "      <td>1.000</td>\n",
       "      <td>0.444</td>\n",
       "      <td>-0.072</td>\n",
       "      <td>...</td>\n",
       "      <td>0.268</td>\n",
       "      <td>0.004</td>\n",
       "      <td>-0.070</td>\n",
       "      <td>0.016</td>\n",
       "      <td>-0.072</td>\n",
       "      <td>-0.094</td>\n",
       "      <td>-0.049</td>\n",
       "      <td>-0.084</td>\n",
       "      <td>0.218</td>\n",
       "      <td>0.118</td>\n",
       "    </tr>\n",
       "    <tr>\n",
       "      <th>MSTATUS</th>\n",
       "      <td>-0.135</td>\n",
       "      <td>0.041</td>\n",
       "      <td>0.091</td>\n",
       "      <td>0.043</td>\n",
       "      <td>0.140</td>\n",
       "      <td>-0.031</td>\n",
       "      <td>-0.478</td>\n",
       "      <td>0.444</td>\n",
       "      <td>1.000</td>\n",
       "      <td>0.004</td>\n",
       "      <td>...</td>\n",
       "      <td>-0.008</td>\n",
       "      <td>-0.001</td>\n",
       "      <td>0.004</td>\n",
       "      <td>-0.018</td>\n",
       "      <td>-0.046</td>\n",
       "      <td>-0.070</td>\n",
       "      <td>-0.044</td>\n",
       "      <td>-0.048</td>\n",
       "      <td>-0.028</td>\n",
       "      <td>-0.003</td>\n",
       "    </tr>\n",
       "    <tr>\n",
       "      <th>SEX</th>\n",
       "      <td>0.022</td>\n",
       "      <td>0.046</td>\n",
       "      <td>-0.066</td>\n",
       "      <td>0.112</td>\n",
       "      <td>-0.088</td>\n",
       "      <td>-0.107</td>\n",
       "      <td>0.074</td>\n",
       "      <td>-0.072</td>\n",
       "      <td>0.004</td>\n",
       "      <td>1.000</td>\n",
       "      <td>...</td>\n",
       "      <td>-0.063</td>\n",
       "      <td>-0.006</td>\n",
       "      <td>0.323</td>\n",
       "      <td>-0.667</td>\n",
       "      <td>0.001</td>\n",
       "      <td>-0.012</td>\n",
       "      <td>0.002</td>\n",
       "      <td>0.008</td>\n",
       "      <td>-0.020</td>\n",
       "      <td>-0.053</td>\n",
       "    </tr>\n",
       "    <tr>\n",
       "      <th>EDUCATION</th>\n",
       "      <td>-0.139</td>\n",
       "      <td>-0.059</td>\n",
       "      <td>0.196</td>\n",
       "      <td>-0.172</td>\n",
       "      <td>0.091</td>\n",
       "      <td>0.497</td>\n",
       "      <td>-0.056</td>\n",
       "      <td>0.302</td>\n",
       "      <td>-0.044</td>\n",
       "      <td>-0.040</td>\n",
       "      <td>...</td>\n",
       "      <td>0.240</td>\n",
       "      <td>-0.002</td>\n",
       "      <td>-0.078</td>\n",
       "      <td>0.031</td>\n",
       "      <td>-0.025</td>\n",
       "      <td>-0.016</td>\n",
       "      <td>-0.015</td>\n",
       "      <td>-0.031</td>\n",
       "      <td>0.622</td>\n",
       "      <td>0.200</td>\n",
       "    </tr>\n",
       "    <tr>\n",
       "      <th>JOB</th>\n",
       "      <td>-0.162</td>\n",
       "      <td>-0.069</td>\n",
       "      <td>0.234</td>\n",
       "      <td>-0.202</td>\n",
       "      <td>0.185</td>\n",
       "      <td>0.520</td>\n",
       "      <td>-0.074</td>\n",
       "      <td>0.338</td>\n",
       "      <td>-0.020</td>\n",
       "      <td>-0.069</td>\n",
       "      <td>...</td>\n",
       "      <td>0.242</td>\n",
       "      <td>0.004</td>\n",
       "      <td>-0.112</td>\n",
       "      <td>0.048</td>\n",
       "      <td>-0.028</td>\n",
       "      <td>-0.029</td>\n",
       "      <td>-0.009</td>\n",
       "      <td>-0.037</td>\n",
       "      <td>0.462</td>\n",
       "      <td>0.273</td>\n",
       "    </tr>\n",
       "    <tr>\n",
       "      <th>TRAVTIME</th>\n",
       "      <td>0.049</td>\n",
       "      <td>0.008</td>\n",
       "      <td>0.006</td>\n",
       "      <td>-0.007</td>\n",
       "      <td>-0.017</td>\n",
       "      <td>-0.047</td>\n",
       "      <td>-0.024</td>\n",
       "      <td>-0.035</td>\n",
       "      <td>0.010</td>\n",
       "      <td>0.005</td>\n",
       "      <td>...</td>\n",
       "      <td>-0.017</td>\n",
       "      <td>-0.011</td>\n",
       "      <td>0.010</td>\n",
       "      <td>0.004</td>\n",
       "      <td>-0.019</td>\n",
       "      <td>0.007</td>\n",
       "      <td>-0.012</td>\n",
       "      <td>0.011</td>\n",
       "      <td>-0.037</td>\n",
       "      <td>-0.166</td>\n",
       "    </tr>\n",
       "    <tr>\n",
       "      <th>CAR_USE</th>\n",
       "      <td>0.143</td>\n",
       "      <td>-0.000</td>\n",
       "      <td>-0.033</td>\n",
       "      <td>-0.005</td>\n",
       "      <td>0.024</td>\n",
       "      <td>0.084</td>\n",
       "      <td>0.006</td>\n",
       "      <td>0.030</td>\n",
       "      <td>-0.021</td>\n",
       "      <td>-0.278</td>\n",
       "      <td>...</td>\n",
       "      <td>0.225</td>\n",
       "      <td>-0.000</td>\n",
       "      <td>0.112</td>\n",
       "      <td>0.190</td>\n",
       "      <td>0.035</td>\n",
       "      <td>0.081</td>\n",
       "      <td>0.017</td>\n",
       "      <td>0.067</td>\n",
       "      <td>-0.066</td>\n",
       "      <td>-0.020</td>\n",
       "    </tr>\n",
       "    <tr>\n",
       "      <th>BLUEBOOK</th>\n",
       "      <td>-0.104</td>\n",
       "      <td>-0.023</td>\n",
       "      <td>0.166</td>\n",
       "      <td>-0.108</td>\n",
       "      <td>0.153</td>\n",
       "      <td>0.437</td>\n",
       "      <td>-0.050</td>\n",
       "      <td>0.268</td>\n",
       "      <td>-0.008</td>\n",
       "      <td>-0.063</td>\n",
       "      <td>...</td>\n",
       "      <td>1.000</td>\n",
       "      <td>-0.006</td>\n",
       "      <td>-0.188</td>\n",
       "      <td>0.022</td>\n",
       "      <td>-0.029</td>\n",
       "      <td>-0.037</td>\n",
       "      <td>-0.025</td>\n",
       "      <td>-0.039</td>\n",
       "      <td>0.194</td>\n",
       "      <td>0.088</td>\n",
       "    </tr>\n",
       "    <tr>\n",
       "      <th>TIF</th>\n",
       "      <td>-0.082</td>\n",
       "      <td>-0.002</td>\n",
       "      <td>-0.001</td>\n",
       "      <td>0.012</td>\n",
       "      <td>0.022</td>\n",
       "      <td>0.001</td>\n",
       "      <td>-0.001</td>\n",
       "      <td>0.004</td>\n",
       "      <td>-0.001</td>\n",
       "      <td>-0.006</td>\n",
       "      <td>...</td>\n",
       "      <td>-0.006</td>\n",
       "      <td>1.000</td>\n",
       "      <td>0.006</td>\n",
       "      <td>-0.001</td>\n",
       "      <td>-0.022</td>\n",
       "      <td>-0.024</td>\n",
       "      <td>-0.032</td>\n",
       "      <td>-0.042</td>\n",
       "      <td>0.006</td>\n",
       "      <td>0.007</td>\n",
       "    </tr>\n",
       "    <tr>\n",
       "      <th>CAR_TYPE</th>\n",
       "      <td>0.145</td>\n",
       "      <td>0.017</td>\n",
       "      <td>-0.022</td>\n",
       "      <td>0.057</td>\n",
       "      <td>-0.076</td>\n",
       "      <td>-0.114</td>\n",
       "      <td>0.030</td>\n",
       "      <td>-0.070</td>\n",
       "      <td>0.004</td>\n",
       "      <td>0.323</td>\n",
       "      <td>...</td>\n",
       "      <td>-0.188</td>\n",
       "      <td>0.006</td>\n",
       "      <td>1.000</td>\n",
       "      <td>-0.216</td>\n",
       "      <td>0.041</td>\n",
       "      <td>0.069</td>\n",
       "      <td>0.029</td>\n",
       "      <td>0.059</td>\n",
       "      <td>-0.064</td>\n",
       "      <td>-0.040</td>\n",
       "    </tr>\n",
       "    <tr>\n",
       "      <th>RED_CAR</th>\n",
       "      <td>-0.008</td>\n",
       "      <td>-0.045</td>\n",
       "      <td>0.020</td>\n",
       "      <td>-0.068</td>\n",
       "      <td>0.051</td>\n",
       "      <td>0.059</td>\n",
       "      <td>-0.042</td>\n",
       "      <td>0.016</td>\n",
       "      <td>-0.018</td>\n",
       "      <td>-0.667</td>\n",
       "      <td>...</td>\n",
       "      <td>0.022</td>\n",
       "      <td>-0.001</td>\n",
       "      <td>-0.216</td>\n",
       "      <td>1.000</td>\n",
       "      <td>0.014</td>\n",
       "      <td>0.026</td>\n",
       "      <td>0.003</td>\n",
       "      <td>0.006</td>\n",
       "      <td>0.017</td>\n",
       "      <td>0.047</td>\n",
       "    </tr>\n",
       "    <tr>\n",
       "      <th>OLDCLAIM</th>\n",
       "      <td>0.139</td>\n",
       "      <td>0.021</td>\n",
       "      <td>-0.030</td>\n",
       "      <td>0.030</td>\n",
       "      <td>-0.005</td>\n",
       "      <td>-0.045</td>\n",
       "      <td>0.035</td>\n",
       "      <td>-0.072</td>\n",
       "      <td>-0.046</td>\n",
       "      <td>0.001</td>\n",
       "      <td>...</td>\n",
       "      <td>-0.029</td>\n",
       "      <td>-0.022</td>\n",
       "      <td>0.041</td>\n",
       "      <td>0.014</td>\n",
       "      <td>1.000</td>\n",
       "      <td>0.495</td>\n",
       "      <td>0.417</td>\n",
       "      <td>0.264</td>\n",
       "      <td>-0.014</td>\n",
       "      <td>0.151</td>\n",
       "    </tr>\n",
       "    <tr>\n",
       "      <th>CLM_FREQ</th>\n",
       "      <td>0.216</td>\n",
       "      <td>0.038</td>\n",
       "      <td>-0.025</td>\n",
       "      <td>0.030</td>\n",
       "      <td>-0.029</td>\n",
       "      <td>-0.048</td>\n",
       "      <td>0.049</td>\n",
       "      <td>-0.094</td>\n",
       "      <td>-0.070</td>\n",
       "      <td>-0.012</td>\n",
       "      <td>...</td>\n",
       "      <td>-0.037</td>\n",
       "      <td>-0.024</td>\n",
       "      <td>0.069</td>\n",
       "      <td>0.026</td>\n",
       "      <td>0.495</td>\n",
       "      <td>1.000</td>\n",
       "      <td>0.052</td>\n",
       "      <td>0.396</td>\n",
       "      <td>-0.011</td>\n",
       "      <td>0.239</td>\n",
       "    </tr>\n",
       "    <tr>\n",
       "      <th>REVOKED</th>\n",
       "      <td>0.153</td>\n",
       "      <td>0.044</td>\n",
       "      <td>-0.039</td>\n",
       "      <td>0.045</td>\n",
       "      <td>-0.006</td>\n",
       "      <td>-0.020</td>\n",
       "      <td>0.050</td>\n",
       "      <td>-0.049</td>\n",
       "      <td>-0.044</td>\n",
       "      <td>0.002</td>\n",
       "      <td>...</td>\n",
       "      <td>-0.025</td>\n",
       "      <td>-0.032</td>\n",
       "      <td>0.029</td>\n",
       "      <td>0.003</td>\n",
       "      <td>0.417</td>\n",
       "      <td>0.052</td>\n",
       "      <td>1.000</td>\n",
       "      <td>0.053</td>\n",
       "      <td>-0.007</td>\n",
       "      <td>0.086</td>\n",
       "    </tr>\n",
       "    <tr>\n",
       "      <th>MVR_PTS</th>\n",
       "      <td>0.219</td>\n",
       "      <td>0.054</td>\n",
       "      <td>-0.072</td>\n",
       "      <td>0.061</td>\n",
       "      <td>-0.039</td>\n",
       "      <td>-0.062</td>\n",
       "      <td>0.069</td>\n",
       "      <td>-0.084</td>\n",
       "      <td>-0.048</td>\n",
       "      <td>0.008</td>\n",
       "      <td>...</td>\n",
       "      <td>-0.039</td>\n",
       "      <td>-0.042</td>\n",
       "      <td>0.059</td>\n",
       "      <td>0.006</td>\n",
       "      <td>0.264</td>\n",
       "      <td>0.396</td>\n",
       "      <td>0.053</td>\n",
       "      <td>1.000</td>\n",
       "      <td>-0.021</td>\n",
       "      <td>0.151</td>\n",
       "    </tr>\n",
       "    <tr>\n",
       "      <th>CAR_AGE</th>\n",
       "      <td>-0.100</td>\n",
       "      <td>-0.053</td>\n",
       "      <td>0.174</td>\n",
       "      <td>-0.151</td>\n",
       "      <td>0.062</td>\n",
       "      <td>0.405</td>\n",
       "      <td>-0.063</td>\n",
       "      <td>0.218</td>\n",
       "      <td>-0.028</td>\n",
       "      <td>-0.020</td>\n",
       "      <td>...</td>\n",
       "      <td>0.194</td>\n",
       "      <td>0.006</td>\n",
       "      <td>-0.064</td>\n",
       "      <td>0.017</td>\n",
       "      <td>-0.014</td>\n",
       "      <td>-0.011</td>\n",
       "      <td>-0.007</td>\n",
       "      <td>-0.021</td>\n",
       "      <td>1.000</td>\n",
       "      <td>0.166</td>\n",
       "    </tr>\n",
       "    <tr>\n",
       "      <th>URBANICITY</th>\n",
       "      <td>0.224</td>\n",
       "      <td>-0.036</td>\n",
       "      <td>0.051</td>\n",
       "      <td>-0.063</td>\n",
       "      <td>0.082</td>\n",
       "      <td>0.200</td>\n",
       "      <td>-0.022</td>\n",
       "      <td>0.118</td>\n",
       "      <td>-0.003</td>\n",
       "      <td>-0.053</td>\n",
       "      <td>...</td>\n",
       "      <td>0.088</td>\n",
       "      <td>0.007</td>\n",
       "      <td>-0.040</td>\n",
       "      <td>0.047</td>\n",
       "      <td>0.151</td>\n",
       "      <td>0.239</td>\n",
       "      <td>0.086</td>\n",
       "      <td>0.151</td>\n",
       "      <td>0.166</td>\n",
       "      <td>1.000</td>\n",
       "    </tr>\n",
       "  </tbody>\n",
       "</table>\n",
       "<p>24 rows × 24 columns</p>\n",
       "</div>"
      ],
      "text/plain": [
       "             TARGET_FLAG  KIDSDRIV    AGE  HOMEKIDS    YOJ  INCOME  PARENT1  \\\n",
       "TARGET_FLAG        1.000     0.104 -0.103     0.115 -0.071  -0.139    0.158   \n",
       "KIDSDRIV           0.104     1.000 -0.074     0.463  0.041  -0.044    0.198   \n",
       "AGE               -0.103    -0.074  1.000    -0.444  0.132   0.177   -0.314   \n",
       "HOMEKIDS           0.115     0.463 -0.444     1.000  0.080  -0.154    0.449   \n",
       "YOJ               -0.071     0.041  0.132     0.080  1.000   0.286   -0.050   \n",
       "INCOME            -0.139    -0.044  0.177    -0.154  0.286   1.000   -0.073   \n",
       "PARENT1            0.158     0.198 -0.314     0.449 -0.050  -0.073    1.000   \n",
       "HOME_VAL          -0.180    -0.020  0.207    -0.109  0.271   0.559   -0.255   \n",
       "MSTATUS           -0.135     0.041  0.091     0.043  0.140  -0.031   -0.478   \n",
       "SEX                0.022     0.046 -0.066     0.112 -0.088  -0.107    0.074   \n",
       "EDUCATION         -0.139    -0.059  0.196    -0.172  0.091   0.497   -0.056   \n",
       "JOB               -0.162    -0.069  0.234    -0.202  0.185   0.520   -0.074   \n",
       "TRAVTIME           0.049     0.008  0.006    -0.007 -0.017  -0.047   -0.024   \n",
       "CAR_USE            0.143    -0.000 -0.033    -0.005  0.024   0.084    0.006   \n",
       "BLUEBOOK          -0.104    -0.023  0.166    -0.108  0.153   0.437   -0.050   \n",
       "TIF               -0.082    -0.002 -0.001     0.012  0.022   0.001   -0.001   \n",
       "CAR_TYPE           0.145     0.017 -0.022     0.057 -0.076  -0.114    0.030   \n",
       "RED_CAR           -0.008    -0.045  0.020    -0.068  0.051   0.059   -0.042   \n",
       "OLDCLAIM           0.139     0.021 -0.030     0.030 -0.005  -0.045    0.035   \n",
       "CLM_FREQ           0.216     0.038 -0.025     0.030 -0.029  -0.048    0.049   \n",
       "REVOKED            0.153     0.044 -0.039     0.045 -0.006  -0.020    0.050   \n",
       "MVR_PTS            0.219     0.054 -0.072     0.061 -0.039  -0.062    0.069   \n",
       "CAR_AGE           -0.100    -0.053  0.174    -0.151  0.062   0.405   -0.063   \n",
       "URBANICITY         0.224    -0.036  0.051    -0.063  0.082   0.200   -0.022   \n",
       "\n",
       "             HOME_VAL  MSTATUS    SEX  ...  BLUEBOOK    TIF  CAR_TYPE  \\\n",
       "TARGET_FLAG    -0.180   -0.135  0.022  ...    -0.104 -0.082     0.145   \n",
       "KIDSDRIV       -0.020    0.041  0.046  ...    -0.023 -0.002     0.017   \n",
       "AGE             0.207    0.091 -0.066  ...     0.166 -0.001    -0.022   \n",
       "HOMEKIDS       -0.109    0.043  0.112  ...    -0.108  0.012     0.057   \n",
       "YOJ             0.271    0.140 -0.088  ...     0.153  0.022    -0.076   \n",
       "INCOME          0.559   -0.031 -0.107  ...     0.437  0.001    -0.114   \n",
       "PARENT1        -0.255   -0.478  0.074  ...    -0.050 -0.001     0.030   \n",
       "HOME_VAL        1.000    0.444 -0.072  ...     0.268  0.004    -0.070   \n",
       "MSTATUS         0.444    1.000  0.004  ...    -0.008 -0.001     0.004   \n",
       "SEX            -0.072    0.004  1.000  ...    -0.063 -0.006     0.323   \n",
       "EDUCATION       0.302   -0.044 -0.040  ...     0.240 -0.002    -0.078   \n",
       "JOB             0.338   -0.020 -0.069  ...     0.242  0.004    -0.112   \n",
       "TRAVTIME       -0.035    0.010  0.005  ...    -0.017 -0.011     0.010   \n",
       "CAR_USE         0.030   -0.021 -0.278  ...     0.225 -0.000     0.112   \n",
       "BLUEBOOK        0.268   -0.008 -0.063  ...     1.000 -0.006    -0.188   \n",
       "TIF             0.004   -0.001 -0.006  ...    -0.006  1.000     0.006   \n",
       "CAR_TYPE       -0.070    0.004  0.323  ...    -0.188  0.006     1.000   \n",
       "RED_CAR         0.016   -0.018 -0.667  ...     0.022 -0.001    -0.216   \n",
       "OLDCLAIM       -0.072   -0.046  0.001  ...    -0.029 -0.022     0.041   \n",
       "CLM_FREQ       -0.094   -0.070 -0.012  ...    -0.037 -0.024     0.069   \n",
       "REVOKED        -0.049   -0.044  0.002  ...    -0.025 -0.032     0.029   \n",
       "MVR_PTS        -0.084   -0.048  0.008  ...    -0.039 -0.042     0.059   \n",
       "CAR_AGE         0.218   -0.028 -0.020  ...     0.194  0.006    -0.064   \n",
       "URBANICITY      0.118   -0.003 -0.053  ...     0.088  0.007    -0.040   \n",
       "\n",
       "             RED_CAR  OLDCLAIM  CLM_FREQ  REVOKED  MVR_PTS  CAR_AGE  \\\n",
       "TARGET_FLAG   -0.008     0.139     0.216    0.153    0.219   -0.100   \n",
       "KIDSDRIV      -0.045     0.021     0.038    0.044    0.054   -0.053   \n",
       "AGE            0.020    -0.030    -0.025   -0.039   -0.072    0.174   \n",
       "HOMEKIDS      -0.068     0.030     0.030    0.045    0.061   -0.151   \n",
       "YOJ            0.051    -0.005    -0.029   -0.006   -0.039    0.062   \n",
       "INCOME         0.059    -0.045    -0.048   -0.020   -0.062    0.405   \n",
       "PARENT1       -0.042     0.035     0.049    0.050    0.069   -0.063   \n",
       "HOME_VAL       0.016    -0.072    -0.094   -0.049   -0.084    0.218   \n",
       "MSTATUS       -0.018    -0.046    -0.070   -0.044   -0.048   -0.028   \n",
       "SEX           -0.667     0.001    -0.012    0.002    0.008   -0.020   \n",
       "EDUCATION      0.031    -0.025    -0.016   -0.015   -0.031    0.622   \n",
       "JOB            0.048    -0.028    -0.029   -0.009   -0.037    0.462   \n",
       "TRAVTIME       0.004    -0.019     0.007   -0.012    0.011   -0.037   \n",
       "CAR_USE        0.190     0.035     0.081    0.017    0.067   -0.066   \n",
       "BLUEBOOK       0.022    -0.029    -0.037   -0.025   -0.039    0.194   \n",
       "TIF           -0.001    -0.022    -0.024   -0.032   -0.042    0.006   \n",
       "CAR_TYPE      -0.216     0.041     0.069    0.029    0.059   -0.064   \n",
       "RED_CAR        1.000     0.014     0.026    0.003    0.006    0.017   \n",
       "OLDCLAIM       0.014     1.000     0.495    0.417    0.264   -0.014   \n",
       "CLM_FREQ       0.026     0.495     1.000    0.052    0.396   -0.011   \n",
       "REVOKED        0.003     0.417     0.052    1.000    0.053   -0.007   \n",
       "MVR_PTS        0.006     0.264     0.396    0.053    1.000   -0.021   \n",
       "CAR_AGE        0.017    -0.014    -0.011   -0.007   -0.021    1.000   \n",
       "URBANICITY     0.047     0.151     0.239    0.086    0.151    0.166   \n",
       "\n",
       "             URBANICITY  \n",
       "TARGET_FLAG       0.224  \n",
       "KIDSDRIV         -0.036  \n",
       "AGE               0.051  \n",
       "HOMEKIDS         -0.063  \n",
       "YOJ               0.082  \n",
       "INCOME            0.200  \n",
       "PARENT1          -0.022  \n",
       "HOME_VAL          0.118  \n",
       "MSTATUS          -0.003  \n",
       "SEX              -0.053  \n",
       "EDUCATION         0.200  \n",
       "JOB               0.273  \n",
       "TRAVTIME         -0.166  \n",
       "CAR_USE          -0.020  \n",
       "BLUEBOOK          0.088  \n",
       "TIF               0.007  \n",
       "CAR_TYPE         -0.040  \n",
       "RED_CAR           0.047  \n",
       "OLDCLAIM          0.151  \n",
       "CLM_FREQ          0.239  \n",
       "REVOKED           0.086  \n",
       "MVR_PTS           0.151  \n",
       "CAR_AGE           0.166  \n",
       "URBANICITY        1.000  \n",
       "\n",
       "[24 rows x 24 columns]"
      ]
     },
     "execution_count": 19,
     "metadata": {},
     "output_type": "execute_result"
    }
   ],
   "source": [
    "np.round(df.corr(),3)"
   ]
  },
  {
   "cell_type": "markdown",
   "metadata": {},
   "source": [
    "First, we can observe that some features seem to be mostly uncorrelated to **TARGET_FLAG**. It is for instance the case of **RED_CAR** and **SEX**. It is unlikely that those features could help us predict **TARGET_FLAG** and they could induce overfitting of the training data. We can therefore drop them.\n",
    "\n",
    "Second, there does not seem to be too much correlation amongst the features. We can however notice that **OLDCLAIM** is correlated with  **CLM_FREQ**,**REVOKED** and **MVR_PTS**, and **CLM_FREQ** with **MVR_PTS**. We can thus add some first order cross features for those features."
   ]
  },
  {
   "cell_type": "code",
   "execution_count": 20,
   "metadata": {},
   "outputs": [],
   "source": [
    "df.drop([\"RED_CAR\",\"SEX\"],axis=1,inplace=True)\n",
    "df[\"OLDCLAIM*CLM_FREQ\"]= df[\"OLDCLAIM\"]*df[\"CLM_FREQ\"]\n",
    "df[\"OLDCLAIM*REVOKED\"] =  df[\"OLDCLAIM\"]*df[\"REVOKED\"]\n",
    "df[\"OLDCLAIM*MVR_PTS\"] =  df[\"OLDCLAIM\"]*df[\"MVR_PTS\"]\n",
    "df[\"CLM_FREQ*MVR_PTS\"] = df[\"CLM_FREQ\"]*df[\"MVR_PTS\"]"
   ]
  },
  {
   "cell_type": "markdown",
   "metadata": {},
   "source": [
    "## MODEL TRAINING\n",
    "We will now train some algorithm on the data in order to predict **TARGET_FLAG**.\n",
    "\n",
    "It is important to remark that **TARGET_FLAG** contains approximately 75% of 0's. So it is important to keep in mind that an algorithm that would return O independantly from the features would still be 75% accurate. We should therefore also take a look at the True Positive, False Positive and False Negative rates.\n",
    "\n",
    "First, let's rescale our data. We will use the *MinMaxScaler* from sklearn. Then we can divide it into a training and a testing sample"
   ]
  },
  {
   "cell_type": "code",
   "execution_count": 21,
   "metadata": {},
   "outputs": [],
   "source": [
    "from sklearn import preprocessing\n",
    "from sklearn.model_selection import train_test_split as tts\n",
    "y=df[\"TARGET_FLAG\"]\n",
    "y= y.to_numpy()\n",
    "X=df.drop(\"TARGET_FLAG\",axis=1)\n",
    "x = X.values #returns a numpy array\n",
    "min_max_scaler = preprocessing.MinMaxScaler()\n",
    "x_scaled = min_max_scaler.fit_transform(x) #automatically rescale our numerical data\n",
    "X = pd.DataFrame(x_scaled,columns=X.columns)\n",
    "#X.drop([\"TIF\",\"YOJ\",\"TRAVTIME\"],axis=1,inplace=True)\n",
    "X=X.to_numpy()\n",
    "X_train,X_test,y_train,y_test= tts(X,y,train_size=.75,stratify=y) \n",
    "#we stratify on **TARGET_FLAG** to have the most representative data in both our training and testing samples"
   ]
  },
  {
   "cell_type": "markdown",
   "metadata": {},
   "source": [
    "Now let's try different algorithms :"
   ]
  },
  {
   "cell_type": "markdown",
   "metadata": {},
   "source": [
    "### GRADIENT BOOSTING CLASSIFIER"
   ]
  },
  {
   "cell_type": "markdown",
   "metadata": {},
   "source": [
    "I chose to first try a gradient boosting classifier. It seemed that a max_depth of 2 limited overfitting while allowing for a good predictive rate. \n",
    "\n",
    "Using a large validation_fraction helps avoiding overfitting, as well as choosing a smaller learning-rate."
   ]
  },
  {
   "cell_type": "code",
   "execution_count": 22,
   "metadata": {},
   "outputs": [],
   "source": [
    "from sklearn.ensemble import GradientBoostingClassifier as GBC\n",
    "model_GBC=GBC(n_estimators=300,learning_rate=0.1,max_depth=2,validation_fraction=0.4) \n",
    "\n",
    "model_GBC = model_GBC.fit(X_train,y_train)"
   ]
  },
  {
   "cell_type": "code",
   "execution_count": 23,
   "metadata": {},
   "outputs": [
    {
     "name": "stdout",
     "output_type": "stream",
     "text": [
      "train_sample accuracy 0.8256\n",
      "test_sample accuracy 0.7952\n"
     ]
    }
   ],
   "source": [
    "print(\"train_sample accuracy \"+ np.str(np.round(model_GBC.score(X_train,y_train),4)))\n",
    "print(\"test_sample accuracy \"+ np.str(np.round(model_GBC.score(X_test,y_test),4)))"
   ]
  },
  {
   "cell_type": "markdown",
   "metadata": {},
   "source": [
    "We can see that this models overfits a bit. However, the precision on the test_samble seems to be bounded by 80%.\n",
    "Let's have a look at the confusion matrix."
   ]
  },
  {
   "cell_type": "code",
   "execution_count": 24,
   "metadata": {},
   "outputs": [
    {
     "name": "stdout",
     "output_type": "stream",
     "text": [
      "TN =  0.9172781854569713\n",
      "FP =  0.08272181454302868\n",
      "FN =  0.5456238361266295\n",
      "TP =  0.4543761638733706\n"
     ]
    }
   ],
   "source": [
    "from sklearn.metrics import confusion_matrix as cm\n",
    "tn,fp,fn,tp = cm(y_test,model_GBC.predict(X_test),normalize='true').ravel()\n",
    "print (\"TN = \",tn)\n",
    "print (\"FP = \",fp)\n",
    "print (\"FN = \",fn)\n",
    "print (\"TP = \",tp)"
   ]
  },
  {
   "cell_type": "markdown",
   "metadata": {},
   "source": [
    "### Keras Neural Network\n",
    "\n",
    "Here is a neural network created with tensorflow.keras. I decided to use a feed forward network with 3 *Dense* layers containing neurons each. Which is close to our data dimension. \n",
    "\n",
    "I increased the number of layers until I observed  an important overfitting of the data. Overfitting appeared with three hidden layers. After that, I adjusted the batch size to diminish overfitting and I then added Dropout layers and tweaked the dropout rate parameter until there was no overfitting. "
   ]
  },
  {
   "cell_type": "code",
   "execution_count": 25,
   "metadata": {},
   "outputs": [],
   "source": [
    "from tensorflow import keras\n",
    "\n",
    "from tensorflow.keras import layers\n",
    "from tensorflow.keras.optimizers import SGD"
   ]
  },
  {
   "cell_type": "code",
   "execution_count": 26,
   "metadata": {},
   "outputs": [
    {
     "data": {
      "image/png": "[encoded data removed]",
      "text/plain": [
       "<Figure size 432x288 with 1 Axes>"
      ]
     },
     "metadata": {
      "needs_background": "light"
     },
     "output_type": "display_data"
    },
    {
     "data": {
      "image/png": "[encoded data removed]",
      "text/plain": [
       "<Figure size 432x288 with 1 Axes>"
      ]
     },
     "metadata": {
      "needs_background": "light"
     },
     "output_type": "display_data"
    }
   ],
   "source": [
    "model_NN = keras.Sequential([layers.Dense(32,input_dim=25,activation=\"relu\"),\n",
    "                         layers.BatchNormalization(),\n",
    "                         layers.Dropout(rate=0.3),\n",
    "                         layers.Dense(32,activation=\"relu\"),\n",
    "                         layers.BatchNormalization(),\n",
    "                         layers.Dropout(rate=0.3),\n",
    "                         layers.Dense(32,activation=\"relu\"),\n",
    "                         layers.BatchNormalization(),\n",
    "                         layers.Dropout(rate=0.4),\n",
    "                         layers.Dense(units=1,activation=\"sigmoid\")])\n",
    "\n",
    "\n",
    "\n",
    "model_NN.compile(optimizer='adam',\n",
    "              loss=\"binary_crossentropy\",\n",
    "              metrics=[\"binary_accuracy\"])\n",
    "\n",
    "early_stopping = keras.callbacks.EarlyStopping(\n",
    "    patience=30,\n",
    "    min_delta=0.00001,\n",
    "    restore_best_weights=True,\n",
    ")\n",
    "history = model_NN.fit(\n",
    "    X_train, y_train,\n",
    "    validation_data=(X_test, y_test),\n",
    "    batch_size=700,\n",
    "    epochs=250,\n",
    "    #callbacks=[early_stopping],\n",
    "    verbose=0,shuffle=True\n",
    ")\n",
    "\n",
    "history_df = pd.DataFrame(history.history)\n",
    "history_df.loc[5:, ['loss', 'val_loss']].plot(title=\"Cross-entropy\")\n",
    "fig=history_df.loc[5:, ['binary_accuracy', 'val_binary_accuracy']].plot(title=\"Accuracy\")"
   ]
  },
  {
   "cell_type": "code",
   "execution_count": 27,
   "metadata": {},
   "outputs": [
    {
     "data": {
      "text/plain": [
       "0.8009827733039856"
      ]
     },
     "execution_count": 27,
     "metadata": {},
     "output_type": "execute_result"
    }
   ],
   "source": [
    "history_df[\"binary_accuracy\"].max()"
   ]
  },
  {
   "cell_type": "markdown",
   "metadata": {},
   "source": [
    "Our model seems to be trained properly and it does not seem to overfit. In the context of our insurance problem, it might be more important to predict when **TARGET_FLAG** will be equal to 1 than when it is equal to zero. In other words False Negatives are a bigger problem than False positives. We should therefore try to penalyse False Negatives in our loss function which is for now the binary cross-entropy(minus log_likelihood)) \n",
    "Lets first take a look at our current False Negative Rate"
   ]
  },
  {
   "cell_type": "code",
   "execution_count": 28,
   "metadata": {},
   "outputs": [
    {
     "name": "stdout",
     "output_type": "stream",
     "text": [
      "FN_rate 0.5046554934823091\n",
      "FP_rate 0.0980653769179453\n"
     ]
    }
   ],
   "source": [
    "Y_pred = model_NN.predict(X_test)\n",
    "Y_pred[Y_pred>.5]=1\n",
    "Y_pred[Y_pred<=.5]=0\n",
    "\n",
    "tn,fp,fn,tp = cm(y_test,Y_pred).ravel()\n",
    "print (\"FN_rate\", fn/(fn+tp))\n",
    "print(\"FP_rate\",fp/(fp+tn))"
   ]
  },
  {
   "cell_type": "markdown",
   "metadata": {},
   "source": [
    "It seems that we are mising half the positive values. To penalize the false negative rate, we can adjust the class weights. \n",
    "\n",
    "Penalizing the false negative rate will, however, increases the false positive rate. Our model will be less specific"
   ]
  },
  {
   "cell_type": "code",
   "execution_count": 33,
   "metadata": {},
   "outputs": [
    {
     "name": "stderr",
     "output_type": "stream",
     "text": [
      "C:\\Users\\Paul Mathivon\\AppData\\Roaming\\Python\\Python37\\site-packages\\tensorflow\\python\\data\\ops\\dataset_ops.py:3350: UserWarning: Even though the tf.config.experimental_run_functions_eagerly option is set, this option does not apply to tf.data functions. tf.data functions are still traced and executed as graphs.\n",
      "  \"Even though the tf.config.experimental_run_functions_eagerly \"\n"
     ]
    },
    {
     "data": {
      "image/png": "[encoded data removed]",
      "text/plain": [
       "<Figure size 432x288 with 1 Axes>"
      ]
     },
     "metadata": {
      "needs_background": "light"
     },
     "output_type": "display_data"
    },
    {
     "data": {
      "image/png": "[encoded data removed]",
      "text/plain": [
       "<Figure size 432x288 with 1 Axes>"
      ]
     },
     "metadata": {
      "needs_background": "light"
     },
     "output_type": "display_data"
    }
   ],
   "source": [
    "model_NN = keras.Sequential([layers.Dense(32,input_dim=25,activation=\"relu\"),\n",
    "                         layers.BatchNormalization(),\n",
    "                         layers.Dropout(rate=0.3),\n",
    "                         layers.Dense(32,activation=\"relu\"),\n",
    "                         layers.BatchNormalization(),\n",
    "                         layers.Dropout(rate=0.3),\n",
    "                         layers.Dense(32,activation=\"relu\"),\n",
    "                         layers.BatchNormalization(),\n",
    "                         layers.Dropout(rate=0.3),\n",
    "                         layers.Dense(units=1,activation=\"sigmoid\")])\n",
    "\n",
    "\n",
    "\n",
    "\n",
    "model_NN.compile(optimizer='adam',\n",
    "              loss=\"binary_crossentropy\",\n",
    "              metrics=[\"binary_accuracy\"])\n",
    "\n",
    "class_weight = {0 : 0.2,1: 0.8} #PENALIZE FALSE NEGATIVE\n",
    "\n",
    "\n",
    "early_stopping = keras.callbacks.EarlyStopping(\n",
    "    patience=50,\n",
    "    min_delta=0.00001,\n",
    "    restore_best_weights=True,\n",
    ")\n",
    "history = model_NN.fit(\n",
    "    X_train, y_train,\n",
    "    validation_data=(X_test, y_test),\n",
    "    batch_size=700,\n",
    "    epochs=250,\n",
    "    class_weight=class_weight,\n",
    "    #callbacks=[early_stopping],\n",
    "    verbose=0,shuffle=True\n",
    ")\n",
    "\n",
    "history_df = pd.DataFrame(history.history)\n",
    "history_df.loc[5:, ['loss', 'val_loss']].plot(title=\"Cross-entropy\")\n",
    "fig=history_df.loc[5:, ['binary_accuracy', 'val_binary_accuracy']].plot(title=\"Accuracy\")"
   ]
  },
  {
   "cell_type": "code",
   "execution_count": 34,
   "metadata": {},
   "outputs": [
    {
     "name": "stderr",
     "output_type": "stream",
     "text": [
      "C:\\Users\\Paul Mathivon\\AppData\\Roaming\\Python\\Python37\\site-packages\\tensorflow\\python\\data\\ops\\dataset_ops.py:3350: UserWarning: Even though the tf.config.experimental_run_functions_eagerly option is set, this option does not apply to tf.data functions. tf.data functions are still traced and executed as graphs.\n",
      "  \"Even though the tf.config.experimental_run_functions_eagerly \"\n"
     ]
    },
    {
     "name": "stdout",
     "output_type": "stream",
     "text": [
      "FN_rate 0.15456238361266295\n",
      "FP_rate 0.4076050700466978\n"
     ]
    }
   ],
   "source": [
    "Y_pred = model_NN.predict(X_test)\n",
    "Y_pred[Y_pred>.5]=1\n",
    "Y_pred[Y_pred<=.5]=0\n",
    "\n",
    "tn,fp,fn,tp = cm(y_test,Y_pred).ravel()\n",
    "print (\"FN_rate\", fn/(fn+tp))\n",
    "print(\"FP_rate\",fp/(fp+tn))"
   ]
  },
  {
   "cell_type": "markdown",
   "metadata": {},
   "source": [
    "We have diminished considerably the false negative rate to 15%. However, it naturally induced an increase for the false positive rate. Indeed 40% of the values which should normally be 0's are now 1's. Moreover we diminished the overall accuracy of the algorithm by almost 10%\n",
    "\n",
    "Depending on the objective, we could tweak the weights to obtain the best possible trade off."
   ]
  },
  {
   "cell_type": "markdown",
   "metadata": {},
   "source": [
    "## Conclusion for the training part\n",
    "\n",
    "Considering the whole dataset and its link to insurance, we can suppose that **TARGET_FLAG** is a risk indicator that is used by insurers (based on previous accidents, etc...). The neural network output is a sigmoïd and we can thus use it as a probability measure for the risk. We can also output probability from the *GBC*.  \n",
    "\n",
    "In the case were we are trying to predict the risk for new clients, it could be interesting to see whether the most dangerous profiles (i.e : the profiles with the highest probability) can be detected. Moreover, we could try to see if we are not missing risky individuals.\n",
    "\n",
    "Let's empirically compute the following probabilities :\n",
    "$$P_{low,NN}=P(p_{y,NN}<0.2 | TFG=1)$$\n",
    "$$P_{low,GBC}=P(p_{y,GBC}<0.2 |TFG=1)$$\n",
    "$$P_{high,NN}=P(TFG=1 | p_{y,NN}>0.8)$$\n",
    "$$P_{high,GBC}=P(TFG=1 |  p_{y,GBC}>0.8)$$\n",
    "\n",
    "The *low* probabilities are the probabilities that a risky individual receive a low score (under 20%). It is thus the probability that we underestimate the risk. This probability should be as low as possible.\n",
    "\n",
    "The *high* probabilities correspond to the probability that an individual that receive a high score (above 80%) is indeed a risky individual.It should be as high as possible."
   ]
  },
  {
   "cell_type": "code",
   "execution_count": null,
   "metadata": {},
   "outputs": [],
   "source": [
    "Y_GBC = model_GBC.predict_proba(X_test) \n",
    "Y_NN = model_NN.predict(X_test)"
   ]
  },
  {
   "cell_type": "code",
   "execution_count": null,
   "metadata": {},
   "outputs": [],
   "source": [
    "risk_df=pd.DataFrame(data = y_test,columns=[\"TARGET_FLAG\"])\n",
    "risk_df[\"Y_GBC\"]=Y_GBC[:,1]\n",
    "risk_df[\"Y_NN\"]=Y_NN"
   ]
  },
  {
   "cell_type": "code",
   "execution_count": null,
   "metadata": {},
   "outputs": [],
   "source": [
    "risk_df.head()"
   ]
  },
  {
   "cell_type": "code",
   "execution_count": null,
   "metadata": {},
   "outputs": [],
   "source": [
    "p_low_nn=len(risk_df[(risk_df[\"TARGET_FLAG\"]==1)&(risk_df[\"Y_NN\"]<=0.2)])/len(risk_df[risk_df[\"TARGET_FLAG\"]==1])\n",
    "p_low_gbc=len(risk_df[(risk_df[\"TARGET_FLAG\"]==1)&(risk_df[\"Y_GBC\"]<=0.2)])/len(risk_df[risk_df[\"TARGET_FLAG\"]==1])"
   ]
  },
  {
   "cell_type": "code",
   "execution_count": null,
   "metadata": {},
   "outputs": [],
   "source": [
    "p_high_nn=len(risk_df[(risk_df[\"TARGET_FLAG\"]==1)&(risk_df[\"Y_NN\"]>=0.8)])/len(risk_df[risk_df[\"Y_NN\"]>=0.8])\n",
    "p_high_gbc=len(risk_df[(risk_df[\"TARGET_FLAG\"]==1)&(risk_df[\"Y_GBC\"]>=0.8)])/len(risk_df[risk_df[\"Y_GBC\"]>=0.8])"
   ]
  },
  {
   "cell_type": "code",
   "execution_count": null,
   "metadata": {},
   "outputs": [],
   "source": [
    "print(\"For the NN :\")\n",
    "print(\"low prob nn p = \",np.round(p_low_nn,3))\n",
    "print(\"high prob nn p = \",np.round(p_high_nn,3))\n",
    "print(\"\")\n",
    "print(\"For the GBC :\")\n",
    "print(\"low prob gbc p = \",np.round(p_low_gbc,3))\n",
    "print(\"high prob gbc p = \",np.round(p_high_gbc,3))"
   ]
  },
  {
   "cell_type": "markdown",
   "metadata": {},
   "source": [
    "**Conclusion:**\n",
    "\n",
    "GBC attributes higher probabilities to dangerous individuals. The models are comparable for attributing low risk to dangerous individuals.\n",
    "\n",
    "It therefore seems that the Gradient Boosting Classifier is more efficient separating risky individuals from less dangerous ones. We should therefore prefer it to the Neural Network. \n",
    "\n",
    "However, we should mind the fact that 15% percent of people  who receive a very low score are, in fact, \"dangerous drivers\"."
   ]
  },
  {
   "cell_type": "markdown",
   "metadata": {},
   "source": [
    "## PREDICTION ON THE TEST AUTO DATASET"
   ]
  },
  {
   "cell_type": "markdown",
   "metadata": {},
   "source": [
    "First we train our GBC on the whole dataset train_auto. Our choice of parameters limited overfitting during the training. We can be confident that we can still limit it while learning on the whole dataset. It could improve our prediction"
   ]
  },
  {
   "cell_type": "code",
   "execution_count": null,
   "metadata": {},
   "outputs": [],
   "source": [
    "model_GBC=GBC(n_estimators=300,learning_rate=0.1,max_depth=2,validation_fraction=0.4)\n",
    "model_GBC = model_GBC.fit(X,y)"
   ]
  },
  {
   "cell_type": "code",
   "execution_count": null,
   "metadata": {},
   "outputs": [],
   "source": [
    "test_auto = pd.read_csv(\"test_auto.csv\",index_col=\"INDEX\")\n",
    "test_auto.drop([\"TARGET_FLAG\",\"TARGET_AMT\"],axis=1,inplace=True)\n",
    "test_auto.head()"
   ]
  },
  {
   "cell_type": "code",
   "execution_count": null,
   "metadata": {},
   "outputs": [],
   "source": [
    "test_auto = pd.read_csv(\"test_auto.csv\",index_col=\"INDEX\")\n",
    "test_auto.drop([\"TARGET_FLAG\",\"TARGET_AMT\"],axis=1,inplace=True)\n",
    "test_auto = test_auto.fillna(-1) #using -1 to avoid dealing with NaN too often\n",
    "\n",
    "#transform binary categorical data in 0 and 1\n",
    "test_auto[\"PARENT1\"]=test_auto[\"PARENT1\"].replace(to_replace=(\"No\",\"Yes\"),value=(0,1))\n",
    "test_auto[\"SEX\"].replace((\"M\",\"z_F\"),(0,1),inplace=True)\n",
    "test_auto[\"CAR_USE\"].replace((\"Private\",\"Commercial\"),(0,1),inplace=True)\n",
    "test_auto[\"RED_CAR\"].replace((\"no\",\"yes\"),(0,1),inplace=True)\n",
    "test_auto[\"REVOKED\"].replace((\"No\",\"Yes\"),(0,1),inplace=True)\n",
    "test_auto[\"URBANICITY\"].replace((\"z_Highly Rural/ Rural\",\"Highly Urban/ Urban\"),(0,1),inplace=True)\n",
    "test_auto[\"MSTATUS\"].replace((\"z_No\",\"Yes\"),(0,1),inplace=True)\n",
    "#transforming dollars in float\n",
    "test_auto[\"INCOME\"]=test_auto[\"INCOME\"].apply(dollar_to_float)\n",
    "test_auto[\"BLUEBOOK\"]=test_auto[\"BLUEBOOK\"].apply(dollar_to_float)\n",
    "test_auto[\"HOME_VAL\"]=test_auto[\"HOME_VAL\"].apply(dollar_to_float)\n",
    "test_auto[\"OLDCLAIM\"]=test_auto[\"OLDCLAIM\"].apply(dollar_to_float)\n",
    "#transforming EDUCATION into binary data\n",
    "test_auto[\"EDUCATION\"].replace(to_replace=[\"Masters\",\"PhD\",\"Bachelors\"],value=1,inplace=True)\n",
    "test_auto[\"EDUCATION\"].replace(to_replace=[\"z_High School\",\"<High School\"],value=0,inplace=True)\n",
    "#Transforming JOB into binary data\n",
    "test_auto[\"JOB\"].replace(to_replace=[\"Lawyer\",\"Doctor\",\"Manager\",\"Professional\"],value=1,inplace=True)\n",
    "test_auto[\"JOB\"].replace(to_replace=[\"Home Maker\",\"Student\",\"z_Blue Collar\",\"Clerical\"],value=0,inplace=True)\n",
    "#Transforming into relative frequency\n",
    "test_auto[\"CAR_TYPE\"].replace(dict_car_type,inplace=True)\n",
    "\n",
    "#Imputing Age,YOJ,Income,Home_val and CAR_AGE,JOB\n",
    "imputer=KNNImputer(n_neighbors= 15,missing_values=-1.,weights='distance') #Nearest Neighbors Imputer\n",
    "impute=imputer.fit_transform(test_auto)\n",
    "test_auto[test_auto.columns]=impute\n",
    "test_auto.drop([\"RED_CAR\",\"SEX\"],axis=1,inplace=True)\n",
    "test_auto[\"OLDCLAIM*CLM_FREQ\"]= test_auto[\"OLDCLAIM\"]*test_auto[\"CLM_FREQ\"]\n",
    "test_auto[\"OLDCLAIM*REVOKED\"] =  test_auto[\"OLDCLAIM\"]*test_auto[\"REVOKED\"]\n",
    "test_auto[\"OLDCLAIM*MVR_PTS\"] =  test_auto[\"OLDCLAIM\"]*test_auto[\"MVR_PTS\"]\n",
    "test_auto[\"CLM_FREQ*MVR_PTS\"] = test_auto[\"CLM_FREQ\"]*test_auto[\"MVR_PTS\"]\n",
    "\n",
    "\n",
    "x = test_auto.values #returns a numpy array\n",
    "min_max_scaler = preprocessing.MinMaxScaler()\n",
    "x_scaled = min_max_scaler.fit_transform(x) #automatically rescale our numerical data\n",
    "X = pd.DataFrame(x_scaled,columns=test_auto.columns)\n",
    "#X.drop([\"TIF\",\"YOJ\",\"TRAVTIME\"],axis=1,inplace=True)\n",
    "X=X.to_numpy()\n",
    "Y= model_GBC.predict(X)"
   ]
  },
  {
   "cell_type": "code",
   "execution_count": null,
   "metadata": {},
   "outputs": [],
   "source": [
    "output = pd.DataFrame(index=test_auto.index,columns=[\"p_target\"])\n",
    "output[\"p_target\"]=Y"
   ]
  },
  {
   "cell_type": "code",
   "execution_count": null,
   "metadata": {},
   "outputs": [],
   "source": [
    "output.to_csv(\"output.csv\")"
   ]
  },
  {
   "cell_type": "code",
   "execution_count": null,
   "metadata": {},
   "outputs": [],
   "source": []
  }
 ],
 "metadata": {
  "hide_input": false,
  "kernelspec": {
   "display_name": "Python 3",
   "language": "python",
   "name": "python3"
  },
  "language_info": {
   "codemirror_mode": {
    "name": "ipython",
    "version": 3
   },
   "file_extension": ".py",
   "mimetype": "text/x-python",
   "name": "python",
   "nbconvert_exporter": "python",
   "pygments_lexer": "ipython3",
   "version": "3.7.9"
  },
  "toc": {
   "base_numbering": 1,
   "nav_menu": {},
   "number_sections": true,
   "sideBar": true,
   "skip_h1_title": false,
   "title_cell": "Table of Contents",
   "title_sidebar": "Contents",
   "toc_cell": false,
   "toc_position": {},
   "toc_section_display": true,
   "toc_window_display": false
  }
 },
 "nbformat": 4,
 "nbformat_minor": 4
}
